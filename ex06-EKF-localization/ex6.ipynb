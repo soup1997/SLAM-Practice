{
 "cells": [
  {
   "attachments": {},
   "cell_type": "markdown",
   "metadata": {},
   "source": [
    "# Exercise 6 - EKF Localization\n",
    "\n",
    "In this assignment you need to implement an EKF algorithm for localizing a robot in a given landmark map. \n",
    "The data for this exercise is recorded on a differential drive robot equipped with a sensor able to detect the distance and the angle of landmarks (e.g., beacons). The figure below visualizes the landmark map and the actual trajectory (ground truth) taken by the robot."
   ]
  },
  {
   "cell_type": "code",
   "execution_count": 1,
   "metadata": {
    "scrolled": true
   },
   "outputs": [
    {
     "data": {
      "image/png": "[encoded data removed]",
      "text/plain": [
       "<Figure size 640x480 with 1 Axes>"
      ]
     },
     "metadata": {},
     "output_type": "display_data"
    }
   ],
   "source": [
    "import pickle\n",
    "import numpy as np\n",
    "import matplotlib.pyplot as plt\n",
    "%matplotlib inline\n",
    "\n",
    "# read dataset\n",
    "data = pickle.load(open(\"dataset_2d_landmarks.p\", \"rb\"))\n",
    "\n",
    "# get landmark coordinates \n",
    "M = data['M']\n",
    "\n",
    "# get ground truth trajectory\n",
    "gt_traj = data['gt']\n",
    "\n",
    "# show map\n",
    "plt.figure(1)\n",
    "plt.plot(M[:,0], M[:,1], '^r')\n",
    "\n",
    "# show ground truth trajectory\n",
    "for i in range(0,len(gt_traj),10):\n",
    "    plt.plot(gt_traj[i][0],gt_traj[i][1], '.b')\n"
   ]
  },
  {
   "attachments": {},
   "cell_type": "markdown",
   "metadata": {},
   "source": [
    "The following data is provided in `data`:\n",
    "\n",
    "- *M* is the map of the environment where the robot must localize\n",
    "- *odom* is the noisy odometry readings observed by the robot during navigation in the form: $\\hat{x}_t,\\hat{y}_t, \\hat{\\theta}_t$ in the odometry frame\n",
    "- *gt* is the ground truth trajectory (poses in the map frame), you may want to use it for checking your results\n",
    "- *z* are the sensor measurements\n",
    "\n",
    "Each measurement $z_t$ contains a set of observed landmarks $[\\rho_i; \\phi_i; id_i]$, where $\\rho_i$ is the measured distance, $\\phi_i$ is the measured angle, and $id_i$ is the id of the landmark.\n",
    "\n",
    "You can access the `data` as follows:"
   ]
  },
  {
   "cell_type": "code",
   "execution_count": 2,
   "metadata": {},
   "outputs": [
    {
     "name": "stdout",
     "output_type": "stream",
     "text": [
      "Odom at step 10 is: \n",
      " [ 0.3449921   0.00058428 -0.02110238]\n",
      "Observation at step 10 is: \n",
      " [[ 2.1793557   1.27533718  3.5604415 ]\n",
      " [ 2.92652148 -1.4372858   0.4519207 ]\n",
      " [ 4.         11.         14.        ]]\n"
     ]
    }
   ],
   "source": [
    "# get odomety at timestamp 10\n",
    "odom_10 = data['odom'][10]\n",
    "print(\"Odom at step 10 is: \\n\",odom_10)\n",
    "\n",
    "# get observation at timestamp 10\n",
    "z_10 = data['z'][10]\n",
    "print(\"Observation at step 10 is: \\n\",z_10)"
   ]
  },
  {
   "attachments": {},
   "cell_type": "markdown",
   "metadata": {},
   "source": [
    "## 6.1 Prediction [3.0]\n",
    "\n",
    "The `ekf_predict` function computes a prediction about the robot's pose after moving by using the odometry motion model.\n",
    "\n",
    "It takes as input:\n",
    "\n",
    "- the current belief about the pose of the robot represented as a Gaussian distribution $\\mathcal{N}(\\mu_t,\\Sigma_t)$ \n",
    "- the odometry readings $u_t$\n",
    "\n",
    "The output is a prediction about the robot's pose $\\mathcal{N}(\\overline{\\mu}_{t+1},\\overline{\\Sigma}_{t+1})$.\n",
    "\n",
    "You can use your implementation of the `inverse_motion_model` function from Exercise 3 to compute the $u_t = [\\delta_{rot1}, \\delta_{trans}, \\delta_{rot2}]$  from the odometry information.\n",
    "\n",
    "Implement the `ekf_predict` function and verify that it is correct for some test input. "
   ]
  },
  {
   "cell_type": "code",
   "execution_count": 10,
   "metadata": {},
   "outputs": [],
   "source": [
    "import matplotlib.pyplot as plt\n",
    "import numpy as np\n",
    "from matplotlib.patches import Ellipse\n",
    "from math import sin, cos, atan2, sqrt\n",
    "\n",
    "\n",
    "def plot_state(mu, S, M):\n",
    "    # initialize figure\n",
    "    ax = plt.gca()\n",
    "    ax.set_xlim([np.min(M[:, 0]) - 2, np.max(M[:, 0]) + 2])\n",
    "    ax.set_xlim([np.min(M[:, 1]) - 2, np.max(M[:, 1]) + 2])\n",
    "    plt.plot(M[:, 0], M[:, 1], '^r')\n",
    "    plt.title('EKF Localization')\n",
    "\n",
    "    # visualize result\n",
    "    plt.plot(mu[0], mu[1], '.b')\n",
    "    plot_2dcov(mu, S)\n",
    "\n",
    "\n",
    "def plot_2dcov(mu, cov):\n",
    "    # covariance only in x,y\n",
    "    d, v = np.linalg.eig(cov[:-1, :-1])\n",
    "\n",
    "    # ellipse orientation\n",
    "    a = np.sqrt(d[0])\n",
    "    b = np.sqrt(d[1])\n",
    "\n",
    "    # compute ellipse orientation\n",
    "    if v[0, 0] == 0:\n",
    "        theta = np.pi / 2\n",
    "    else:\n",
    "        theta = np.arctan2(v[0, 1], v[0, 0])\n",
    "\n",
    "    # create an ellipse\n",
    "    ellipse = Ellipse((mu[0], mu[1]),\n",
    "                      width=a * 2,\n",
    "                      height=b * 2,\n",
    "                      angle=np.rad2deg(theta),\n",
    "                      edgecolor='blue',\n",
    "                      alpha=0.3)\n",
    "\n",
    "    ax = plt.gca()\n",
    "\n",
    "    return ax.add_patch(ellipse)\n",
    "\n",
    "\n",
    "def wrapToPi(theta):\n",
    "    while theta < -np.pi:\n",
    "        theta = theta + 2 * np.pi\n",
    "    while theta > np.pi:\n",
    "        theta = theta - 2 * np.pi\n",
    "    return theta\n",
    "\n",
    "\n",
    "def inv_motion_model(u_t):\n",
    "    trans = sqrt((u_t[1][0]-u_t[0][0])**2 + (u_t[1][1]-u_t[0][1])**2)\n",
    "    rot1  = wrapToPi(atan2((u_t[1][1]-u_t[0][1]),(u_t[1][0]-u_t[0][0])) - u_t[0][2])\n",
    "    rot2  = wrapToPi(u_t[1][2] - u_t[0][2] - rot1)\n",
    "\n",
    "    return rot1, trans, rot2\n",
    "\n",
    "def ekf_predict(mu, sigma, u_t, R):\n",
    "    theta = mu[2][0]\n",
    "\n",
    "    rot1,trans,rot2 = inv_motion_model(u_t)\n",
    "\n",
    "    G_t = np.array([[1, 0, -trans * sin(theta + rot1)],\n",
    "                    [0, 1,  trans * cos(theta + rot1)],\n",
    "                    [0,0,1]])\n",
    "\n",
    "    '''\n",
    "    V_t = np.array([[-trans * sin(theta + rot1), cos(theta + rot1),0],\n",
    "                    [trans * cos(theta + rot1), sin(theta + rot1),0],\n",
    "                    [1,0,1]])\n",
    "    '''\n",
    "    mu_bar = mu + np.array([[trans * cos(theta + rot1)],\n",
    "                            [trans * sin(theta + rot1)],\n",
    "                            [rot1 + rot2]])\n",
    "                        \n",
    "    # sigma_bar = G_t @ (sigma @ G_t.T) + V_t @ (R @ V_t.T)\n",
    "    sigma_bar = G_t @ (sigma @ G_t.T) + R\n",
    "    return mu_bar,sigma_bar"
   ]
  },
  {
   "cell_type": "code",
   "execution_count": 11,
   "metadata": {},
   "outputs": [
    {
     "name": "stdout",
     "output_type": "stream",
     "text": [
      "[[2.        ]\n",
      " [3.        ]\n",
      " [1.57079633]] \n",
      "\n",
      " [[ 2.000000e+00 -6.123234e-17 -1.000000e+00]\n",
      " [-6.123234e-17  1.000000e+00  6.123234e-17]\n",
      " [-1.000000e+00  6.123234e-17  1.000000e+00]]\n"
     ]
    }
   ],
   "source": [
    "mu = np.array([[2, 2, np.pi/2]]).T\n",
    "sigma = np.diag([1, 1, 1])\n",
    "u_t = [[0, 0, 0], [1, 0, 0]]\n",
    "R = np.zeros((3, 3))\n",
    "\n",
    "mu_p, sigma_p = ekf_predict(mu, sigma, u_t, R)\n",
    "print(mu_p, \"\\n\\n\", sigma_p)"
   ]
  },
  {
   "attachments": {},
   "cell_type": "markdown",
   "metadata": {},
   "source": [
    "## 6.2 Correction [3.0]\n",
    "\n",
    "The `ekf_correct` implements the correction step of the EKF that corrects the prediction according to the sensor measurements.\n",
    "\n",
    "It takes as input:\n",
    "\n",
    "- the current prediction about the pose of the robot represented as a Gaussian distribution $\\mathcal{N}(\\overline{\\mu}_{t+1},\\overline{\\Sigma}_{t+1})$\n",
    "- the sensor measurements $z_t$\n",
    "\n",
    "The output is new belief about the robot's pose $\\mathcal{N}({\\mu}_{t+1},{\\Sigma}_{t+1})$.\n",
    "\n",
    "Implement the `ekf_correct` function and verify that it is correct for some test input"
   ]
  },
  {
   "cell_type": "code",
   "execution_count": 22,
   "metadata": {},
   "outputs": [],
   "source": [
    "def ekf_correct(mu_bar, sigma_bar, z, Q, M):\n",
    "    for i in range(z.shape[1]):\n",
    "        j = int(z[2,i])\n",
    "        lx = M[j,0]\n",
    "        ly = M[j,1]\n",
    "        \n",
    "        q = (lx - mu_bar[0,0]) ** 2  + (ly - mu_bar[1,0]) ** 2\n",
    "        dist = sqrt(q)\n",
    "        \n",
    "        delta = np.array([[lx - mu_bar[0, 0]],\n",
    "                          [ly - mu_bar[1, 0]]])\n",
    "        \n",
    "        z_hat = np.array([[dist],\n",
    "                          [wrapToPi(atan2(delta[1, 0],delta[0, 0]) - mu_bar[2, 0])]])\n",
    "\n",
    "        H_t = np.array([[-delta[0, 0] / dist, -(delta[1, 0]) / dist, 0],\n",
    "                        [delta[1, 0] / q,  -(delta[0, 0]) / q, -1]])\n",
    "\n",
    "        S = H_t @ sigma_bar @ H_t.T + Q\n",
    "   \n",
    "        K = sigma_bar @ H_t.T @ np.linalg.inv(S)\n",
    "      \n",
    "        mu_bar = mu_bar + (K @ (z[:2,i].reshape(2,1) - z_hat))\n",
    "        mu_bar[2,0] = wrapToPi(mu_bar[2, 0]) \n",
    "        sigma_bar = (np.identity(3) - (K @ H_t)) @ sigma_bar\n",
    "    \n",
    "    return mu_bar,sigma_bar"
   ]
  },
  {
   "cell_type": "code",
   "execution_count": 23,
   "metadata": {},
   "outputs": [
    {
     "name": "stdout",
     "output_type": "stream",
     "text": [
      "Only running predict\n",
      "[[1.89063269 5.01048817 1.62486271]]\n",
      "[[25.41378409  0.73391807 -7.55708829]\n",
      " [ 0.73391807  7.21762093 -0.32082104]\n",
      " [-7.55708829 -0.32082104  4.06291001]]\n",
      "After running correct\n",
      "[[1.96692572 4.93549478 1.56139293]]\n",
      "[[3.86546981e-03 2.11413377e-04 2.05449079e-04]\n",
      " [2.11413377e-04 2.15958953e-03 7.63262114e-05]\n",
      " [2.05449079e-04 7.63262114e-05 1.23325955e-03]]\n",
      "[2.         5.03       1.57079633]\n"
     ]
    }
   ],
   "source": [
    "# 3x3 process noise\n",
    "sigma_x = 0.25  # [m]\n",
    "sigma_y = 0.25  # [m]\n",
    "sigma_theta = np.deg2rad(10)  # [rad]\n",
    "R = np.diag(np.array([sigma_x, sigma_y, sigma_theta])**2)\n",
    "\n",
    "# 2x2 observation noise\n",
    "sigma_r = 0.1  # [m]\n",
    "sigma_phi = np.deg2rad(5)  # [rad]\n",
    "Q = np.diag(np.array([sigma_r, sigma_phi])**2)\n",
    "\n",
    "# initial state\n",
    "mu_bar = np.array([2, 2, np.pi/2]) \n",
    "S_bar = np.array([[1, 0, 0],[0, 1, 0], [0, 0, np.pi/3]])\n",
    "\n",
    "\n",
    "for i in range(1,100):   \n",
    "    u_t = [data['odom'][i-1],data['odom'][i]]\n",
    "    mu_bar,S_bar = ekf_predict(mu_bar.reshape(3,1), S_bar, u_t,R)\n",
    "\n",
    "print(\"Only running predict\")\n",
    "print(mu_bar.T)\n",
    "print(S_bar)\n",
    "\n",
    "mu = np.array([2, 2, np.pi/2]) \n",
    "S = np.array([[1, 0, 0],[0, 1, 0], [0, 0, np.pi/3]])\n",
    "\n",
    "for i in range(1,100):   \n",
    "    u_t = [data['odom'][i-1],data['odom'][i]]\n",
    "    z = data['z'][i]\n",
    "    mu_bar, sigma_bar = ekf_predict(mu.reshape(3,1), S, u_t, R)\n",
    "    mu, S = ekf_correct(mu_bar, sigma_bar, z, Q, M)\n",
    "print(\"After running correct\")\n",
    "print(mu.T)\n",
    "print(S)\n",
    "\n",
    "print(gt_traj[100])"
   ]
  },
  {
   "attachments": {},
   "cell_type": "markdown",
   "metadata": {},
   "source": [
    "## 6.3 Localization [3.0]\n",
    "\n",
    "Once you complete all the above functions, implement the main procedure of EKF localization `ekf_localization` which recursively estimates the pose of the robot using the odometry data and the sensor measurements.\n",
    "\n",
    "Assume the initial belief at time $t=0$ is:\n",
    "\n",
    "- $\\mu = [2, 2, \\pi/2]'$\n",
    "- $\n",
    "\\Sigma = \\left(\\begin{array}{cc} \n",
    "1 & 0 & 0\\\\\n",
    "0 & 1 & 0 \\\\\n",
    "0 & 0 & \\pi/3\n",
    "\\end{array}\\right)\n",
    "$ \n",
    "            \n",
    "The process noise $R$ and measurement noise $Q$ are defined as:\n",
    "- $R = \\left(\\begin{array}{cc} \n",
    "\\sigma_x^2 & 0 & 0 \\\\\n",
    "0 & \\sigma_y^2 & 0 \\\\\n",
    "0 & 0 &  \\sigma_{theta}^2\n",
    "\\end{array}\\right)\n",
    "$\n",
    "\n",
    "with $\\sigma_x = 0.25$ meters, $\\sigma_y = 0.25$ meters and $\\sigma_theta = 10$ degrees. \n",
    " \n",
    "- $Q = \n",
    "\\left(\\begin{array}{cc} \n",
    "\\sigma_r^2 & 0 \\\\\n",
    "0 & \\sigma_{phi}^2 \n",
    "\\end{array}\\right)\n",
    "$\n",
    "\n",
    "with $\\sigma_r = 0.10$ meters, $\\sigma_{phi} = 5$ degrees. \n",
    "\n",
    "Plot the belief about the position of the robot after the sequence of odometry readings and sensor measurements provided in `data` by using the `plot_state` function."
   ]
  },
  {
   "cell_type": "code",
   "execution_count": 24,
   "metadata": {},
   "outputs": [
    {
     "data": {
      "image/png": "[encoded data removed]",
      "text/plain": [
       "<Figure size 640x480 with 1 Axes>"
      ]
     },
     "metadata": {},
     "output_type": "display_data"
    }
   ],
   "source": [
    "# 3x3 process noise\n",
    "sigma_x = 0.25  # [m]\n",
    "sigma_y = 0.25  # [m]\n",
    "sigma_theta = np.deg2rad(10)  # [rad]\n",
    "R = np.diag(np.array([sigma_x, sigma_y, sigma_theta])**2)\n",
    "\n",
    "# 2x2 observation noise\n",
    "sigma_r = 0.1  # [m]\n",
    "sigma_phi = np.deg2rad(5)  # [rad]\n",
    "Q = np.diag(np.array([sigma_r, sigma_phi])**2)\n",
    "\n",
    "# initial state\n",
    "mu = np.array([2, 2, np.pi/2]) \n",
    "S = np.array([[1, 0, 0],[0, 1, 0], [0, 0, np.pi/3]])\n",
    "\n",
    "# visualize\n",
    "plt.figure()\n",
    "plot_state(mu, S, M)"
   ]
  },
  {
   "cell_type": "code",
   "execution_count": 25,
   "metadata": {},
   "outputs": [
    {
     "data": {
      "image/png": "[encoded data removed]",
      "text/plain": [
       "<Figure size 640x480 with 1 Axes>"
      ]
     },
     "metadata": {},
     "output_type": "display_data"
    }
   ],
   "source": [
    "for i in range(1,len(data['odom'])):   \n",
    "    u_t = [data['odom'][i-1], data['odom'][i]]\n",
    "    z = data['z'][i]\n",
    "\n",
    "    mu_bar, sigma_bar = ekf_predict(mu.reshape(3,1), S, u_t, R)\n",
    "    mu, S = ekf_correct(mu_bar, sigma_bar, z, Q, M)\n",
    "    plot_state(mu, S, M)"
   ]
  }
 ],
 "metadata": {
  "kernelspec": {
   "display_name": "Python 3",
   "language": "python",
   "name": "python3"
  },
  "language_info": {
   "codemirror_mode": {
    "name": "ipython",
    "version": 3
   },
   "file_extension": ".py",
   "mimetype": "text/x-python",
   "name": "python",
   "nbconvert_exporter": "python",
   "pygments_lexer": "ipython3",
   "version": "3.5.2"
  }
 },
 "nbformat": 4,
 "nbformat_minor": 4
}
